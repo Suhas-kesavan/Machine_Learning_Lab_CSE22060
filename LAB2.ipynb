{
 "cells": [
  {
   "cell_type": "markdown",
   "id": "621e6037",
   "metadata": {},
   "source": [
    "# Suhas Kesavan CSE22060"
   ]
  },
  {
   "cell_type": "code",
   "execution_count": 8,
   "id": "a18a2601",
   "metadata": {},
   "outputs": [],
   "source": [
    "import pandas as pd\n",
    "import numpy as np"
   ]
  },
  {
   "cell_type": "code",
   "execution_count": 60,
   "id": "0c4d05a3",
   "metadata": {},
   "outputs": [
    {
     "name": "stdout",
     "output_type": "stream",
     "text": [
      "(10, 3)\n",
      "(10, 1)\n",
      "[[20  6  2]\n",
      " [16  3  6]\n",
      " [27  6  2]\n",
      " [19  1  2]\n",
      " [24  4  2]\n",
      " [22  1  5]\n",
      " [15  4  2]\n",
      " [18  4  2]\n",
      " [21  1  4]\n",
      " [16  2  4]]\n",
      "[[386]\n",
      " [289]\n",
      " [393]\n",
      " [110]\n",
      " [280]\n",
      " [167]\n",
      " [271]\n",
      " [274]\n",
      " [148]\n",
      " [198]]\n",
      "[[-1.42857143e-01  6.43666939e-18  1.42857143e-01]\n",
      " [ 6.19047619e-01 -6.66666667e-02 -4.19047619e-01]\n",
      " [ 7.14285714e-02  2.00000000e-01 -1.71428571e-01]]\n",
      "[[386]\n",
      " [289]\n",
      " [393]]\n",
      "Final Ans =  [[ 1.]\n",
      " [55.]\n",
      " [18.]]\n"
     ]
    }
   ],
   "source": [
    "def find_x():\n",
    "    df = pd.read_excel(\"C:/Users/Suhas K/Collage programs/SEM 5/Machine Learning/Lab Session Data.xlsx\",sheet_name = None)\n",
    "    purchase_data = df['Purchase data'].iloc[:,:5]\n",
    "    purchase_data.head(10)\n",
    "    a = np.array(purchase_data[['Candies (#)','Mangoes (Kg)','Milk Packets (#)']])\n",
    "    c = np.array(purchase_data[['Payment (Rs)']])\n",
    "    print(a.shape)\n",
    "    print(c.shape)\n",
    "    print(a)\n",
    "    print(c)\n",
    "    rank_A = np.linalg.matrix_rank(a)\n",
    "    rank_A\n",
    "    ainv = np.linalg.pinv(a[:3][:3])\n",
    "    print(ainv)\n",
    "    c_1 = c[:3]\n",
    "    print(c_1)\n",
    "    x = np.dot(ainv,c[:3])\n",
    "    print(\"Final Ans = \",x)\n",
    "find_x()"
   ]
  },
  {
   "cell_type": "code",
   "execution_count": null,
   "id": "0d8c28cd",
   "metadata": {},
   "outputs": [],
   "source": [
    "\n"
   ]
  },
  {
   "cell_type": "code",
   "execution_count": null,
   "id": "e012b77b",
   "metadata": {},
   "outputs": [],
   "source": []
  },
  {
   "cell_type": "code",
   "execution_count": null,
   "id": "576b9136",
   "metadata": {},
   "outputs": [],
   "source": []
  },
  {
   "cell_type": "code",
   "execution_count": null,
   "id": "7404ba5e",
   "metadata": {},
   "outputs": [],
   "source": []
  }
 ],
 "metadata": {
  "kernelspec": {
   "display_name": "Python 3 (ipykernel)",
   "language": "python",
   "name": "python3"
  },
  "language_info": {
   "codemirror_mode": {
    "name": "ipython",
    "version": 3
   },
   "file_extension": ".py",
   "mimetype": "text/x-python",
   "name": "python",
   "nbconvert_exporter": "python",
   "pygments_lexer": "ipython3",
   "version": "3.11.5"
  }
 },
 "nbformat": 4,
 "nbformat_minor": 5
}
